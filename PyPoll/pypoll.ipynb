{
 "cells": [
  {
   "cell_type": "code",
   "execution_count": 8,
   "id": "b8906c66-df82-49a1-a652-5a09a6f81759",
   "metadata": {},
   "outputs": [
    {
     "name": "stdout",
     "output_type": "stream",
     "text": [
      "Election Results\n",
      "---------------------------\n",
      "Total Votes: 369711\n",
      "---------------------------\n",
      "Charles Casper Stockham: 23.049% (85213) \n",
      "Diana DeGette: 73.812% (272892) \n",
      "Raymon Anthony Doane: 3.139% (11606) \n",
      "---------------------------\n",
      "Winnner: Diana DeGette\n",
      "---------------------------\n"
     ]
    }
   ],
   "source": [
    "import csv\n",
    "import os\n",
    "\n",
    "file_to_load = os.path.join(\".\", \"Resources\", \"election_data.csv\")\n",
    "\n",
    "file_to_output = os.path.join(\".\", \"election_data.csv\")\n",
    "\n",
    "\n",
    "total_votes = 0\n",
    "\n",
    "candidate_votes = {}\n",
    "candidate_options = []\n",
    "\n",
    "winning_count = 0\n",
    "winning_candidate = \"\"\n",
    "\n",
    "with open(file_to_load) as election_data:\n",
    "    reader = csv.reader(election_data)\n",
    "\n",
    "    header = next(reader)\n",
    "    for row in reader:\n",
    "        total_votes +=1\n",
    "\n",
    "        candidate_name = row[2]\n",
    "\n",
    "        if candidate_name not in candidate_options:\n",
    "            candidate_options.append(candidate_name)\n",
    "\n",
    "            candidate_votes[candidate_name] = 0\n",
    "\n",
    "        candidate_votes[candidate_name] +=1\n",
    "\n",
    "\n",
    "\n",
    "\n",
    "\n",
    "\n",
    "\n",
    "\n",
    "with open(file_to_output, \"w\") as txt_file:\n",
    "\n",
    "    election_results = (\n",
    "        f\"Election Results\\n\"\n",
    "        f\"---------------------------\\n\"\n",
    "        f\"Total Votes: {total_votes}\\n\"\n",
    "        f\"---------------------------\\n\"\n",
    "    )\n",
    "    print(election_results, end=\"\")\n",
    "    \n",
    "    txt_file.write(election_results)\n",
    "    \n",
    "    for candidate in candidate_votes:\n",
    "        votes =candidate_votes[candidate]\n",
    "        vote_percent = float(votes) / float(total_votes) * 100\n",
    "    \n",
    "        if(votes > winning_count):\n",
    "            winning_count = votes\n",
    "            winning_candidate = candidate\n",
    "        voter_output = (f\"{candidate}: {vote_percent:.3f}% ({votes}) \\n\")\n",
    "        print(voter_output, end= \"\")\n",
    "        txt_file.write(voter_output)\n",
    "    \n",
    "    winning_candidate_summary = (\n",
    "        f\"---------------------------\\n\"\n",
    "        f\"Winnner: {winning_candidate}\\n\"\n",
    "        f\"---------------------------\\n\"\n",
    "    )\n",
    "    print(winning_candidate_summary, end =\"\")\n",
    "    txt_file.write(winning_candidate_summary)"
   ]
  },
  {
   "cell_type": "code",
   "execution_count": null,
   "id": "e05dc496-ee3f-4399-8202-3ef458bfc5bb",
   "metadata": {},
   "outputs": [],
   "source": []
  },
  {
   "cell_type": "code",
   "execution_count": null,
   "id": "26066306-65b0-4a2e-ac3c-e2b07aa88987",
   "metadata": {},
   "outputs": [],
   "source": []
  }
 ],
 "metadata": {
  "kernelspec": {
   "display_name": "Python 3 (ipykernel)",
   "language": "python",
   "name": "python3"
  },
  "language_info": {
   "codemirror_mode": {
    "name": "ipython",
    "version": 3
   },
   "file_extension": ".py",
   "mimetype": "text/x-python",
   "name": "python",
   "nbconvert_exporter": "python",
   "pygments_lexer": "ipython3",
   "version": "3.11.7"
  }
 },
 "nbformat": 4,
 "nbformat_minor": 5
}
