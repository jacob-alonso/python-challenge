{
 "cells": [
  {
   "cell_type": "code",
   "execution_count": 4,
   "id": "655adf33-dba4-4439-a73c-2ae002466e18",
   "metadata": {},
   "outputs": [
    {
     "name": "stdout",
     "output_type": "stream",
     "text": [
      "Financial Analysis:\n",
      "------------------------\n",
      "Total months: 86\n",
      "Total: $22564198\n",
      "Average: $-8311.11\n",
      "Greatest increase in profits: Aug-16 ($ 1862002)\n",
      "Greatest decrease in profits: Feb-14 ($-1825558)\n"
     ]
    }
   ],
   "source": [
    "import csv\n",
    "import os\n",
    "\n",
    "file_to_load = os.path.join(\".\", \"Resources\", \"budget_data.csv\")\n",
    "\n",
    "file_to_output = os.path.join(\".\", \"budget_analysis.txt\")\n",
    "\n",
    "\n",
    "total_months = 0\n",
    "total_net = 0\n",
    "\n",
    "net_change_list = []\n",
    "month_of_changes = []\n",
    "\n",
    "greatest = [\"\", 0]\n",
    "least = [\"\", 999999999999999999]\n",
    "\n",
    "with open(file_to_load) as (financial_data):\n",
    "\n",
    "    reader = csv.reader(financial_data)\n",
    "\n",
    "    header = next(reader)\n",
    "\n",
    "    first_row = next(reader)\n",
    "\n",
    "    total_net += int(first_row[1])\n",
    "    previous_net = int(first_row[1])\n",
    "\n",
    "    total_months +=1\n",
    "\n",
    "\n",
    "    for row in reader:\n",
    "        total_months += 1\n",
    "        total_net += int(row[1])\n",
    "\n",
    "\n",
    "        net_change = int(row[1]) - previous_net\n",
    "        previous_net = int(row[1])\n",
    "        net_change_list.append(net_change)\n",
    "\n",
    "\n",
    "        if(net_change > greatest[1]):\n",
    "            greatest[0] = row[0]\n",
    "            greatest[1] = net_change\n",
    "\n",
    "        if(net_change < least[1]):\n",
    "            least[0] = row[0]\n",
    "            least[1] = net_change\n",
    "\n",
    "\n",
    "net_monthly_average = sum(net_change_list) / len(net_change_list)\n",
    "\n",
    "output = (\n",
    "    f\"Financial Analysis:\\n\"\n",
    "    f\"------------------------\\n\"\n",
    "    f\"Total months: {total_months}\\n\"\n",
    "    f\"Total: ${total_net}\\n\"\n",
    "    f\"Average: ${net_monthly_average:.2f}\\n\"\n",
    "    f\"Greatest increase in profits: {greatest[0]} ($ {greatest[1]})\\n\"\n",
    "    f\"Greatest decrease in profits: {least[0]} (${least[1]})\")\n",
    "print(output)\n",
    "\n",
    "with open(file_to_output, \"w\") as txt_file:\n",
    "    txt_file.write(output)\n"
   ]
  },
  {
   "cell_type": "code",
   "execution_count": null,
   "id": "500bd92a-1d73-4ac3-8568-3da3f11c4d04",
   "metadata": {},
   "outputs": [],
   "source": []
  }
 ],
 "metadata": {
  "kernelspec": {
   "display_name": "Python 3 (ipykernel)",
   "language": "python",
   "name": "python3"
  },
  "language_info": {
   "codemirror_mode": {
    "name": "ipython",
    "version": 3
   },
   "file_extension": ".py",
   "mimetype": "text/x-python",
   "name": "python",
   "nbconvert_exporter": "python",
   "pygments_lexer": "ipython3",
   "version": "3.11.7"
  }
 },
 "nbformat": 4,
 "nbformat_minor": 5
}
