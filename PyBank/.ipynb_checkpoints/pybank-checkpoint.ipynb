{
 "cells": [
  {
   "cell_type": "code",
   "execution_count": 21,
   "id": "9d8eaed2-9df4-4b1f-bad6-16937f51def8",
   "metadata": {},
   "outputs": [
    {
     "name": "stdout",
     "output_type": "stream",
     "text": [
      "Financial Analysis:\n",
      "------------------------\n",
      "Total months: 86\n",
      "Total: $22564198\n",
      "Average: $-836333.41\n",
      "Greatest increase in profits: Mar-13 ($ 52857)\n",
      "Greatest decrease in profits: Dec-10 ($-2283116)\n"
     ]
    }
   ],
   "source": [
    "import csv\n",
    "import os\n",
    "\n",
    "bank_dataset = os.path.join(\".\", \"Resources\", \"budget_data.csv\")\n",
    "\n",
    "bank_dataset_analyzed = os.path.join(\".\", \"budget_analysis.txt\")\n",
    "\n",
    "\n",
    "total_months =1\n",
    "total_earned = 0\n",
    "net_change_list =[]\n",
    "\n",
    "month_change =[]\n",
    "increase =[\"\", 0]\n",
    "decrease =[\"\", 9999999]\n",
    "\n",
    "with open(bank_dataset) as financial_data:\n",
    "\n",
    "    read = csv.reader(financial_data)\n",
    "    \n",
    "    header = next(read)\n",
    "    first_row = next(read)\n",
    "    total_earned += int(first_row[1])\n",
    "    previous_net = int(first_row[1])\n",
    "    \n",
    "    for row in read:\n",
    "        total_months +=1\n",
    "        total_earned += int(row[1])\n",
    "\n",
    "        net_change = int(row[1]) - previous_net\n",
    "        preivous_net = int(row[1])\n",
    "        net_change_list.append(net_change)\n",
    "\n",
    "\n",
    "        if (net_change > increase[1]):\n",
    "            increase[0]= row[0]\n",
    "            increase[1] = net_change\n",
    "\n",
    "        if (net_change < decrease[1]):\n",
    "            decrease[0] =row[0]\n",
    "            decrease[1] = net_change\n",
    "\n",
    "\n",
    "net_monthly_avg = sum(net_change_list)/ len(net_change_list)\n",
    "\n",
    "output = (\n",
    "    f\"Financial Analysis:\\n\"\n",
    "    f\"------------------------\\n\"\n",
    "    f\"Total months: {total_months}\\n\"\n",
    "    f\"Total: ${total_earned}\\n\"\n",
    "    f\"Average: ${net_monthly_avg:.2f}\\n\"\n",
    "    f\"Greatest increase in profits: {increase[0]} ($ {increase[1]})\\n\"\n",
    "    f\"Greatest decrease in profits: {decrease[0]} (${decrease[1]})\")\n",
    "print(output)\n",
    "\n",
    "with open(bank_dataset_analyzed, \"w\") as txt_file:\n",
    "    txt_file.write(output)\n",
    "\n"
   ]
  },
  {
   "cell_type": "code",
   "execution_count": null,
   "id": "655adf33-dba4-4439-a73c-2ae002466e18",
   "metadata": {},
   "outputs": [],
   "source": []
  }
 ],
 "metadata": {
  "kernelspec": {
   "display_name": "Python 3 (ipykernel)",
   "language": "python",
   "name": "python3"
  },
  "language_info": {
   "codemirror_mode": {
    "name": "ipython",
    "version": 3
   },
   "file_extension": ".py",
   "mimetype": "text/x-python",
   "name": "python",
   "nbconvert_exporter": "python",
   "pygments_lexer": "ipython3",
   "version": "3.11.7"
  }
 },
 "nbformat": 4,
 "nbformat_minor": 5
}
